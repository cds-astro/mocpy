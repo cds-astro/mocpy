{
 "cells": [
  {
   "cell_type": "code",
   "execution_count": null,
   "metadata": {},
   "outputs": [],
   "source": [
    "%matplotlib inline\n",
    "from mocpy import MOC\n",
    "import mocpy\n",
    "print(mocpy.__version__)\n",
    "from astropy.io import fits\n",
    "\n",
    "import astropy.units as u\n",
    "from astropy.coordinates import SkyCoord, Angle"
   ]
  },
  {
   "cell_type": "code",
   "execution_count": null,
   "metadata": {},
   "outputs": [],
   "source": [
    "image_path = '../resources/image_with_mask.fits.gz'\n",
    "\n",
    "with fits.open(image_path) as hdulist:\n",
    "    moc = MOC.from_fits_image(\n",
    "        hdu=hdulist[0],\n",
    "        max_norder=10,\n",
    "        mask=hdulist[0].data\n",
    "    )"
   ]
  },
  {
   "cell_type": "code",
   "execution_count": null,
   "metadata": {},
   "outputs": [],
   "source": [
    "import matplotlib.pyplot as plt\n",
    "fig = plt.figure(111, figsize=(15, 5))\n",
    "\n",
    "from mocpy import World2ScreenMPL\n",
    "\n",
    "from astropy.coordinates import Angle\n",
    "with World2ScreenMPL(fig, \n",
    "         fov=110 * u.deg,\n",
    "         center=SkyCoord(0, 0, unit='deg', frame='galactic'),\n",
    "         coordsys=\"galactic\",\n",
    "         rotation=Angle(0, u.degree),\n",
    "         projection=\"SIN\") as wcs:\n",
    "    ax = fig.add_subplot(1, 1, 1, projection=wcs)\n",
    "\n",
    "    moc.fill(ax=ax, wcs=wcs, alpha=0.5, fill=True, color=\"green\")\n",
    "    moc.border(ax=ax, wcs=wcs, alpha=0.5, fill=True, color=\"black\")\n",
    "\n",
    "plt.xlabel('ra')\n",
    "plt.ylabel('dec')\n",
    "plt.grid(color=\"black\", linestyle=\"dotted\")"
   ]
  },
  {
   "cell_type": "code",
   "execution_count": null,
   "metadata": {},
   "outputs": [],
   "source": []
  }
 ],
 "metadata": {
  "file_extension": ".py",
  "kernelspec": {
   "display_name": "mocpy-env",
   "language": "python",
   "name": "mocpy-env"
  },
  "language_info": {
   "codemirror_mode": {
    "name": "ipython",
    "version": 3
   },
   "file_extension": ".py",
   "mimetype": "text/x-python",
   "name": "python",
   "nbconvert_exporter": "python",
   "pygments_lexer": "ipython3",
   "version": "3.6.9"
  },
  "mimetype": "text/x-python",
  "name": "python",
  "npconvert_exporter": "python",
  "pygments_lexer": "ipython3",
  "version": 3
 },
 "nbformat": 4,
 "nbformat_minor": 2
}
